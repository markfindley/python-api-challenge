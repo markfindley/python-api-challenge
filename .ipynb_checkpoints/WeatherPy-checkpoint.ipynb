{
 "cells": [
  {
   "cell_type": "markdown",
   "metadata": {},
   "source": [
    "# WeatherPy\n",
    "----\n",
    "\n",
    "#### Note\n",
    "* Instructions have been included for each segment. You do not have to follow them exactly, but they are included to help you think through the steps."
   ]
  },
  {
   "cell_type": "code",
   "execution_count": 1,
   "metadata": {},
   "outputs": [],
   "source": [
    "# Your objective is to build a series of scatter plots to showcase the following relationships:\n",
    "# * Temperature (F) vs. Latitude\n",
    "# * Humidity (%) vs. Latitude\n",
    "# * Cloudiness (%) vs. Latitude\n",
    "# * Wind Speed (mph) vs. Latitude\n",
    "\n",
    "# Your final notebook must:\n",
    "# * Randomly select **at least** 500 unique (non-repeat) cities based on latitude and longitude.\n",
    "# * Perform a weather check on each of the cities using a series of successive API calls.\n",
    "# * Include a print log of each city as it's being processed with the city number and city name.\n",
    "# * Save both a CSV of all data retrieved and png images for each scatter plot.\n",
    "\n",
    "# The Equator is the line of 0 degrees latitude. Each parallel measures one degree north or south \n",
    "# of the Equator, with 90 degrees north of the Equator and 90 degrees south of the Equator. \n",
    "\n",
    "# Observed Trend 1\n",
    "# Observed Trend 2\n",
    "# Observed Trend 3"
   ]
  },
  {
   "cell_type": "code",
   "execution_count": 2,
   "metadata": {
    "scrolled": true
   },
   "outputs": [],
   "source": [
    "# Dependencies and Setup\n",
    "import matplotlib.pyplot as plt\n",
    "import pandas as pd\n",
    "import numpy as np\n",
    "import requests\n",
    "import time\n",
    "\n",
    "# Import API key\n",
    "from api_keys import api_key\n",
    "\n",
    "# Incorporated citipy to determine city based on latitude and longitude\n",
    "from citipy import citipy\n",
    "\n",
    "# Output File (CSV)\n",
    "output_data_file = \"output_data/cities.csv\"\n",
    "\n",
    "# Range of latitudes and longitudes\n",
    "lat_range = (-90, 90)\n",
    "lng_range = (-180, 180)"
   ]
  },
  {
   "cell_type": "markdown",
   "metadata": {},
   "source": [
    "## Generate Cities List"
   ]
  },
  {
   "cell_type": "code",
   "execution_count": 3,
   "metadata": {},
   "outputs": [
    {
     "data": {
      "text/plain": [
       "598"
      ]
     },
     "execution_count": 3,
     "metadata": {},
     "output_type": "execute_result"
    }
   ],
   "source": [
    "# List for holding lat_lngs and cities\n",
    "lat_lngs = []\n",
    "cities = []\n",
    "\n",
    "# Create a set of random lat and lng combinations\n",
    "lats = np.random.uniform(low=-90.000, high=90.000, size=1500)\n",
    "lngs = np.random.uniform(low=-180.000, high=180.000, size=1500)\n",
    "lat_lngs = zip(lats, lngs)\n",
    "\n",
    "# Identify nearest city for each lat, lng combination\n",
    "for lat_lng in lat_lngs:\n",
    "    city = citipy.nearest_city(lat_lng[0], lat_lng[1]).city_name\n",
    "    \n",
    "    # If the city is unique, then add it to a our cities list\n",
    "    if city not in cities:\n",
    "        cities.append(city)\n",
    "\n",
    "# just try with a few cities first\n",
    "# cities = ['New York', 'Los Angeles', 'Chicago', 'Houston', 'Philadelphia']\n",
    "\n",
    "# Print the city count to confirm sufficient count\n",
    "len(cities)\n",
    "# cities"
   ]
  },
  {
   "cell_type": "code",
   "execution_count": 4,
   "metadata": {},
   "outputs": [
    {
     "name": "stdout",
     "output_type": "stream",
     "text": [
      "http://api.openweathermap.org/data/2.5/weather?appid=fc9ec4855987313c1e98a51c51af9db2&units=Imperial&q=london\n"
     ]
    }
   ],
   "source": [
    "# base url\n",
    "base_url = \"http://api.openweathermap.org/data/2.5/weather?\"\n",
    "\n",
    "units = \"Imperial\"\n",
    "\n",
    "query_url = f\"{base_url}appid={api_key}&units={units}&q=\"\n"
   ]
  },
  {
   "cell_type": "markdown",
   "metadata": {},
   "source": [
    "### Perform API Calls\n",
    "* Perform a weather check on each city using a series of successive API calls.\n",
    "* Include a print log of each city as it'sbeing processed (with the city number and city name).\n"
   ]
  },
  {
   "cell_type": "code",
   "execution_count": 5,
   "metadata": {},
   "outputs": [
    {
     "name": "stdout",
     "output_type": "stream",
     "text": [
      "City: avarua\n",
      "Longitude: -159.78\n",
      "Latitude: -21.21\n",
      "Temperature: 75.2\n",
      "Humidity: 83\n",
      "Wind: 4.7\n",
      "Clouds: 33\n",
      "Country: CK\n",
      "Date: 1566761835\n"
     ]
    }
   ],
   "source": [
    "# * Temperature (F) vs. Latitude\n",
    "# * Humidity (%) vs. Latitude\n",
    "# * Cloudiness (%) vs. Latitude\n",
    "# * Wind Speed (mph) vs. Latitude\n",
    "lon = []\n",
    "lat = []\n",
    "temp = []\n",
    "humidity = []\n",
    "wind = []\n",
    "clouds = []\n",
    "country = []\n",
    "date = []\n",
    "\n",
    "# loop through cities, make API request, and append desired results\n",
    "# NEED TO FIGURE OUT HOW TO GET RESULTS FROM CITIES WITH SPACES IN THEIR NAMES LIKE NEW YORK\n",
    "for city in cities:\n",
    "    try:\n",
    "        response = requests.get(query_url + city).json()\n",
    "        lon.append(response['coord']['lon'])\n",
    "        lat.append(response['coord']['lat'])\n",
    "        temp.append(response['main']['temp_max'])\n",
    "        humidity.append(response['main']['humidity'])\n",
    "        wind.append(response['wind']['speed'])\n",
    "        clouds.append(response['clouds']['all'])\n",
    "        country.append(response['sys']['country'])\n",
    "        date.append(response['dt'])\n",
    "        print(f\"City: {city}\")\n",
    "        print(f\"Longitude: {response['coord']['lon']}\")\n",
    "        print(f\"Latitude: {response['coord']['lat']}\")\n",
    "        print(f\"Temperature: {response['main']['temp_max']}\")\n",
    "        print(f\"Humidity: {response['main']['humidity']}\")\n",
    "        print(f\"Wind: {response['wind']['speed']}\")\n",
    "        print(f\"Clouds: {response['clouds']['all']}\")\n",
    "        print(f\"Country: {response['sys']['country']}\")\n",
    "        print(f\"Date: {response['dt']}\")\n",
    "        break\n",
    "    except (KeyError):\n",
    "        print(f\"City is missing... removing: {city}\")\n",
    "        cities.remove(city)"
   ]
  },
  {
   "cell_type": "code",
   "execution_count": 6,
   "metadata": {},
   "outputs": [],
   "source": [
    "# len(cities)\n",
    "# len(lon)\n",
    "# len(lat)\n",
    "# len(temp)\n",
    "# len(humidity)\n",
    "# len(wind)\n",
    "# len(clouds)\n",
    "# len(country)\n",
    "# len(date)"
   ]
  },
  {
   "cell_type": "markdown",
   "metadata": {},
   "source": [
    "### Convert Raw Data to DataFrame\n",
    "* Export the city data into a .csv.\n",
    "* Display the DataFrame"
   ]
  },
  {
   "cell_type": "code",
   "execution_count": 16,
   "metadata": {},
   "outputs": [],
   "source": [
    "# city_weather_df = pd.DataFrame(\n",
    "#     {'City': cities,\n",
    "#      'Country': country,\n",
    "#      'Date': date,\n",
    "#      'Latitude': lat,\n",
    "#      'Longitude': lon,\n",
    "#      'Temperature': temp,\n",
    "#      'Humidity': humidity,\n",
    "#      'Wind': wind,\n",
    "#      'Clouds': clouds\n",
    "#     })\n",
    "\n",
    "# city_weather_df.head()"
   ]
  },
  {
   "cell_type": "code",
   "execution_count": 28,
   "metadata": {},
   "outputs": [
    {
     "name": "stdout",
     "output_type": "stream",
     "text": [
      "City is missing... skipping: taolanaro\n",
      "City is missing... skipping: samusu\n",
      "City is missing... skipping: svetlyy\n",
      "City is missing... skipping: amderma\n",
      "City is missing... skipping: barentsburg\n",
      "City is missing... skipping: belushya guba\n",
      "City is missing... skipping: illoqqortoormiut\n",
      "City is missing... skipping: yanan\n",
      "City is missing... skipping: asau\n",
      "City is missing... skipping: kushmurun\n",
      "City is missing... skipping: attawapiskat\n",
      "City is missing... skipping: vaitupu\n",
      "City is missing... skipping: jiddah\n",
      "City is missing... skipping: taburi\n",
      "City is missing... skipping: deh rawud\n",
      "City is missing... skipping: palabuhanratu\n",
      "City is missing... skipping: vreed en hoop\n",
      "City is missing... skipping: bengkulu\n",
      "City is missing... skipping: lolua\n",
      "City is missing... skipping: armacao dos buzios\n",
      "City is missing... skipping: kamenskoye\n",
      "City is missing... skipping: saleaula\n",
      "City is missing... skipping: louisbourg\n",
      "City is missing... skipping: nizhneyansk\n",
      "City is missing... skipping: bacuit\n",
      "City is missing... skipping: bolungarvik\n",
      "City is missing... skipping: zabolottya\n",
      "City is missing... skipping: mys shmidta\n",
      "City is missing... skipping: marcona\n",
      "City is missing... skipping: olafsvik\n",
      "City is missing... skipping: cansancao\n",
      "City is missing... skipping: sinkat\n",
      "City is missing... skipping: maghama\n",
      "City is missing... skipping: loubomo\n",
      "City is missing... skipping: sentyabrskiy\n",
      "City is missing... skipping: stornoway\n",
      "City is missing... skipping: tambopata\n",
      "City is missing... skipping: grand river south east\n",
      "City is missing... skipping: samalaeulu\n",
      "City is missing... skipping: tumannyy\n",
      "City is missing... skipping: eskasem\n",
      "City is missing... skipping: saryshagan\n",
      "City is missing... skipping: kamthi\n",
      "City is missing... skipping: yurya\n",
      "City is missing... skipping: malakal\n",
      "City is missing... skipping: skalistyy\n",
      "City is missing... skipping: nguiu\n",
      "City is missing... skipping: kazalinsk\n",
      "City is missing... skipping: zhitikara\n",
      "City is missing... skipping: pafos\n",
      "City is missing... skipping: tsihombe\n",
      "City is missing... skipping: wahran\n",
      "City is missing... skipping: umzimvubu\n",
      "City is missing... skipping: tasbuget\n",
      "City is missing... skipping: korla\n",
      "City is missing... skipping: malwan\n",
      "City is missing... skipping: ondorhaan\n",
      "City is missing... skipping: chagda\n"
     ]
    },
    {
     "data": {
      "text/html": [
       "<div>\n",
       "<style scoped>\n",
       "    .dataframe tbody tr th:only-of-type {\n",
       "        vertical-align: middle;\n",
       "    }\n",
       "\n",
       "    .dataframe tbody tr th {\n",
       "        vertical-align: top;\n",
       "    }\n",
       "\n",
       "    .dataframe thead th {\n",
       "        text-align: right;\n",
       "    }\n",
       "</style>\n",
       "<table border=\"1\" class=\"dataframe\">\n",
       "  <thead>\n",
       "    <tr style=\"text-align: right;\">\n",
       "      <th></th>\n",
       "      <th>City</th>\n",
       "      <th>Country</th>\n",
       "      <th>Date</th>\n",
       "      <th>Latitude</th>\n",
       "      <th>Longitude</th>\n",
       "      <th>Temperature</th>\n",
       "      <th>Humidity</th>\n",
       "      <th>Wind</th>\n",
       "      <th>Clouds</th>\n",
       "    </tr>\n",
       "  </thead>\n",
       "  <tbody>\n",
       "    <tr>\n",
       "      <th>0</th>\n",
       "      <td>avarua</td>\n",
       "      <td>CK</td>\n",
       "      <td>1566763769</td>\n",
       "      <td>-21.21</td>\n",
       "      <td>-159.78</td>\n",
       "      <td>75.2</td>\n",
       "      <td>88.0</td>\n",
       "      <td>9.17</td>\n",
       "      <td>98.0</td>\n",
       "    </tr>\n",
       "    <tr>\n",
       "      <th>1</th>\n",
       "      <td>tuktoyaktuk</td>\n",
       "      <td>CA</td>\n",
       "      <td>1566763904</td>\n",
       "      <td>69.44</td>\n",
       "      <td>-133.03</td>\n",
       "      <td>44.6</td>\n",
       "      <td>93.0</td>\n",
       "      <td>11.41</td>\n",
       "      <td>90.0</td>\n",
       "    </tr>\n",
       "    <tr>\n",
       "      <th>2</th>\n",
       "      <td>new norfolk</td>\n",
       "      <td>AU</td>\n",
       "      <td>1566763905</td>\n",
       "      <td>-42.78</td>\n",
       "      <td>147.06</td>\n",
       "      <td>46.0</td>\n",
       "      <td>81.0</td>\n",
       "      <td>6.93</td>\n",
       "      <td>40.0</td>\n",
       "    </tr>\n",
       "    <tr>\n",
       "      <th>3</th>\n",
       "      <td>punta arenas</td>\n",
       "      <td>CL</td>\n",
       "      <td>1566763905</td>\n",
       "      <td>-53.16</td>\n",
       "      <td>-70.91</td>\n",
       "      <td>48.2</td>\n",
       "      <td>57.0</td>\n",
       "      <td>10.29</td>\n",
       "      <td>75.0</td>\n",
       "    </tr>\n",
       "    <tr>\n",
       "      <th>4</th>\n",
       "      <td>ushuaia</td>\n",
       "      <td>AR</td>\n",
       "      <td>1566763905</td>\n",
       "      <td>-54.81</td>\n",
       "      <td>-68.31</td>\n",
       "      <td>46.4</td>\n",
       "      <td>52.0</td>\n",
       "      <td>4.70</td>\n",
       "      <td>0.0</td>\n",
       "    </tr>\n",
       "  </tbody>\n",
       "</table>\n",
       "</div>"
      ],
      "text/plain": [
       "           City Country        Date  Latitude  Longitude  Temperature  \\\n",
       "0        avarua      CK  1566763769    -21.21    -159.78         75.2   \n",
       "1   tuktoyaktuk      CA  1566763904     69.44    -133.03         44.6   \n",
       "2   new norfolk      AU  1566763905    -42.78     147.06         46.0   \n",
       "3  punta arenas      CL  1566763905    -53.16     -70.91         48.2   \n",
       "4       ushuaia      AR  1566763905    -54.81     -68.31         46.4   \n",
       "\n",
       "   Humidity   Wind  Clouds  \n",
       "0      88.0   9.17    98.0  \n",
       "1      93.0  11.41    90.0  \n",
       "2      81.0   6.93    40.0  \n",
       "3      57.0  10.29    75.0  \n",
       "4      52.0   4.70     0.0  "
      ]
     },
     "execution_count": 28,
     "metadata": {},
     "output_type": "execute_result"
    }
   ],
   "source": [
    "# create a dataframe with the city names in it \n",
    "# and blanks for Cloudiness, Country, Date, Humidity, Lat, Lng, Max Temp, Wind Speed\n",
    "city_weather_df = pd.DataFrame(cities, columns=['City'])\n",
    "\n",
    "city_weather_df[\"Country\"] = \"\"\n",
    "city_weather_df[\"Date\"] = \"\"\n",
    "city_weather_df[\"Latitude\"] = float(0)\n",
    "city_weather_df[\"Longitude\"] = float(0)\n",
    "city_weather_df[\"Temperature\"] = float(0)\n",
    "city_weather_df[\"Humidity\"] = float(0)\n",
    "city_weather_df[\"Wind\"] = float(0)\n",
    "city_weather_df[\"Clouds\"] = float(0)\n",
    "\n",
    "for index, row in city_weather_df.iterrows():\n",
    "    try:\n",
    "        response = requests.get(query_url + city_weather_df.loc[index, 'City']).json()\n",
    "        \n",
    "        city_weather_df.loc[index, \"Country\"] = response['sys']['country']\n",
    "        city_weather_df.loc[index, \"Date\"] = response['dt']\n",
    "        city_weather_df.loc[index, \"Latitude\"] = float(response['coord']['lat'])\n",
    "        city_weather_df.loc[index, \"Longitude\"] = float(response['coord']['lon'])\n",
    "        city_weather_df.loc[index, \"Temperature\"] = float(response['main']['temp_max'])\n",
    "        city_weather_df.loc[index, \"Humidity\"] = float(response['main']['humidity'])\n",
    "        city_weather_df.loc[index, \"Wind\"] = float(response['wind']['speed'])\n",
    "        city_weather_df.loc[index, \"Clouds\"] = float(response['clouds']['all'])\n",
    "        \n",
    "#         break\n",
    "    except (KeyError):\n",
    "        print(\"City is missing... skipping: \"+ city_weather_df.loc[index, 'City'])\n",
    "        \n",
    "city_weather_df.head()      \n",
    "# city_weather_df.dtypes"
   ]
  },
  {
   "cell_type": "markdown",
   "metadata": {},
   "source": [
    "### Plotting the Data\n",
    "* Use proper labeling of the plots using plot titles (including date of analysis) and axes labels.\n",
    "* Save the plotted figures as .pngs."
   ]
  },
  {
   "cell_type": "markdown",
   "metadata": {},
   "source": [
    "#### Latitude vs. Temperature Plot"
   ]
  },
  {
   "cell_type": "code",
   "execution_count": 35,
   "metadata": {},
   "outputs": [
    {
     "data": {
      "image/png": "[encoded data removed]",
      "text/plain": [
       "<Figure size 432x288 with 1 Axes>"
      ]
     },
     "metadata": {
      "needs_background": "light"
     },
     "output_type": "display_data"
    }
   ],
   "source": [
    "# Latitude vs. Temperature Plot\n",
    "plt.scatter(city_weather_df[\"Latitude\"], city_weather_df[\"Temperature\"], marker=\"o\")\n",
    "\n",
    "plt.title(\"City Latitude vs. Max Temperature Plot\")\n",
    "plt.ylabel(\"Max Temperature (F)\")\n",
    "plt.xlabel(\"Latitude\")\n",
    "plt.grid(True)\n",
    "\n",
    "# Save the figure\n",
    "plt.savefig(\"LatitudeVsTemperaturePlot.png\")\n",
    "\n",
    "# Show plot\n",
    "plt.show()"
   ]
  },
  {
   "cell_type": "markdown",
   "metadata": {},
   "source": [
    "#### Latitude vs. Humidity Plot"
   ]
  },
  {
   "cell_type": "code",
   "execution_count": 36,
   "metadata": {},
   "outputs": [
    {
     "data": {
      "image/png": "[encoded data removed]",
      "text/plain": [
       "<Figure size 432x288 with 1 Axes>"
      ]
     },
     "metadata": {
      "needs_background": "light"
     },
     "output_type": "display_data"
    }
   ],
   "source": [
    "# Latitude vs. Humidity Plot\n",
    "plt.scatter(city_weather_df[\"Latitude\"], city_weather_df[\"Humidity\"], marker=\"o\")\n",
    "\n",
    "plt.title(\"City Latitude vs. Humidity Plot\")\n",
    "plt.ylabel(\"Humidity\")\n",
    "plt.xlabel(\"Latitude\")\n",
    "plt.grid(True)\n",
    "\n",
    "# Save the figure\n",
    "plt.savefig(\"LatitudeVsHumidityPlot.png\")\n",
    "\n",
    "# Show plot\n",
    "plt.show()"
   ]
  },
  {
   "cell_type": "markdown",
   "metadata": {},
   "source": [
    "#### Latitude vs. Cloudiness Plot"
   ]
  },
  {
   "cell_type": "code",
   "execution_count": 38,
   "metadata": {},
   "outputs": [
    {
     "data": {
      "image/png": "[encoded data removed]",
      "text/plain": [
       "<Figure size 432x288 with 1 Axes>"
      ]
     },
     "metadata": {
      "needs_background": "light"
     },
     "output_type": "display_data"
    }
   ],
   "source": [
    "# Latitude vs. Cloudiness Plot\n",
    "plt.scatter(city_weather_df[\"Latitude\"], city_weather_df[\"Clouds\"], marker=\"o\")\n",
    "\n",
    "plt.title(\"City Latitude vs. Cloudiness Plot\")\n",
    "plt.ylabel(\"Cloudiness\")\n",
    "plt.xlabel(\"Latitude\")\n",
    "plt.grid(True)\n",
    "\n",
    "# Save the figure\n",
    "plt.savefig(\"LatitudeVsCloudinessPlot.png\")\n",
    "\n",
    "# Show plot\n",
    "plt.show()"
   ]
  },
  {
   "cell_type": "markdown",
   "metadata": {},
   "source": [
    "#### Latitude vs. Wind Speed Plot"
   ]
  },
  {
   "cell_type": "code",
   "execution_count": 39,
   "metadata": {},
   "outputs": [
    {
     "data": {
      "image/png": "[encoded data removed]",
      "text/plain": [
       "<Figure size 432x288 with 1 Axes>"
      ]
     },
     "metadata": {
      "needs_background": "light"
     },
     "output_type": "display_data"
    }
   ],
   "source": [
    "# Latitude vs. Windiness Plot\n",
    "plt.scatter(city_weather_df[\"Latitude\"], city_weather_df[\"Wind\"], marker=\"o\")\n",
    "\n",
    "plt.title(\"City Latitude vs. Windiness Plot\")\n",
    "plt.ylabel(\"Windiness\")\n",
    "plt.xlabel(\"Latitude\")\n",
    "plt.grid(True)\n",
    "\n",
    "# Save the figure\n",
    "plt.savefig(\"LatitudeVsWindinessPlot.png\")\n",
    "\n",
    "# Show plot\n",
    "plt.show()"
   ]
  },
  {
   "cell_type": "code",
   "execution_count": null,
   "metadata": {},
   "outputs": [],
   "source": []
  }
 ],
 "metadata": {
  "anaconda-cloud": {},
  "kernel_info": {
   "name": "python3"
  },
  "kernelspec": {
   "display_name": "Python 3",
   "language": "python",
   "name": "python3"
  },
  "language_info": {
   "codemirror_mode": {
    "name": "ipython",
    "version": 3
   },
   "file_extension": ".py",
   "mimetype": "text/x-python",
   "name": "python",
   "nbconvert_exporter": "python",
   "pygments_lexer": "ipython3",
   "version": "3.7.1"
  },
  "nteract": {
   "version": "0.12.3"
  }
 },
 "nbformat": 4,
 "nbformat_minor": 2
}
